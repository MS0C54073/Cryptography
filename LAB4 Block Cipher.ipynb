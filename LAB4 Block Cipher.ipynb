{
 "cells": [
  {
   "cell_type": "code",
   "execution_count": 1,
   "id": "diverse-milton",
   "metadata": {},
   "outputs": [
    {
     "name": "stdout",
     "output_type": "stream",
     "text": [
      "Enter any string: count me in nigga\n",
      "\n",
      " The encrypted string(in bytes) - \n",
      " b'\\xd1\\xbe\\x16\\x84\\xcch/\\xe6\\x04\\xab\\xbc\\xedCH\\xb7+\\xd9\\xb7eh\\x9b\\x9as\\xef'\n",
      "\n",
      " The actual input(in bytes) -  \n",
      " b'count me in nigga       '\n",
      "\n",
      " The encrypted string(in bytes) - \n",
      " b'\\x0f\\xe0\\xfd\\xea\\xb5\\xa5\\xc6\\xbf\\xdc\\x8dg\\xa8\\x08\\xc4\\xe5\\xbb\\x04\\x82\\xd6\\xea\\x1b\\xd9=]'\n",
      "\n",
      " The actual input(in bytes) -  \n",
      " b'count me in nigga       '\n"
     ]
    }
   ],
   "source": [
    "#import the DES library using a customized package\n",
    "import pyDes\n",
    "# import this library for generating random number by the system\n",
    "import os\n",
    "# input\n",
    "i = input(\"Enter any string: \")\n",
    "\n",
    "# Padding function: add ' ' until the string length is multiples of 8\n",
    "def padded_text(s):\n",
    "    while len(s)%8 !=0 :\n",
    "        s += ' '\n",
    "    return s\n",
    "\n",
    "p = padded_text(i)\n",
    "# key should be 8 bytes long.\n",
    "k_ecb = pyDes.des(\"DESCRYPT\", pyDes.ECB, \"\\0\\0\\0\\0\\0\\0\\0\\0\", pad=None, padmode=None)\n",
    "\n",
    "# encrypted data i.e. in bytes\n",
    "e_ecb = k_ecb.encrypt(str.encode(p))\n",
    "print(\"\\n The encrypted string(in bytes) - \\n\", e_ecb)\n",
    "\n",
    "# extract the input text from the encrypted input using decryption\n",
    "d_ecb = k_ecb.decrypt(e_ecb)\n",
    "print(\"\\n The actual input(in bytes) -  \\n\", d_ecb)\n",
    "# key should be 8 bytes long. IV vector given some random value (8 bytes for XOR operation).\n",
    "k_cbc = pyDes.des(\"DESCRYPT\", pyDes.CBC, os.urandom(8), pad=None, padmode=None)\n",
    "\n",
    "# encrypted data i.e. in bytes\n",
    "e_cbc = k_cbc.encrypt(str.encode(p))\n",
    "print(\"\\n The encrypted string(in bytes) - \\n\", e_cbc)\n",
    "\n",
    "# extract the input text from the encrypted input using decryption\n",
    "d_cbc = k_cbc.decrypt(e_cbc)\n",
    "print(\"\\n The actual input(in bytes) -  \\n\", d_cbc)"
   ]
  },
  {
   "cell_type": "code",
   "execution_count": null,
   "id": "recorded-findings",
   "metadata": {},
   "outputs": [],
   "source": [
    "\n"
   ]
  },
  {
   "cell_type": "code",
   "execution_count": null,
   "id": "restricted-boost",
   "metadata": {},
   "outputs": [],
   "source": []
  }
 ],
 "metadata": {
  "kernelspec": {
   "display_name": "Python 3",
   "language": "python",
   "name": "python3"
  },
  "language_info": {
   "codemirror_mode": {
    "name": "ipython",
    "version": 3
   },
   "file_extension": ".py",
   "mimetype": "text/x-python",
   "name": "python",
   "nbconvert_exporter": "python",
   "pygments_lexer": "ipython3",
   "version": "3.8.5"
  }
 },
 "nbformat": 4,
 "nbformat_minor": 5
}

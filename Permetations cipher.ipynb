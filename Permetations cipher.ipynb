{
 "cells": [
  {
   "cell_type": "code",
   "execution_count": 1,
   "id": "pressed-liechtenstein",
   "metadata": {},
   "outputs": [
    {
     "name": "stdout",
     "output_type": "stream",
     "text": [
      "<function encrypt at 0x000001F02AA14670>\n",
      "<function decrypt at 0x000001F02AA14700>\n"
     ]
    }
   ],
   "source": [
    "import math\n",
    "import random\n",
    "\n",
    "def encrypt(key,message):\n",
    "    # set rows (message length divided by key, rounded up)\n",
    "    # set columns (same as key)\n",
    "\n",
    "    letters = 'abcdefghijklmnopqrstuvwxyzABCDEFGHIJKLMNOPQRSTUVWXYZ'\n",
    "    pointer = 0\n",
    "    encrypted = ''\n",
    "\n",
    "    # create a 2D array as a table\n",
    "    table = [[''] * cols for i in range(rows)]\n",
    "\n",
    "    # for each row in the table\n",
    "    #   for each column in the table\n",
    "    #       if we haven't hit the end of the message yet\n",
    "    #           fill each element with the next character in the message\n",
    "    #       if we have hit the end of the message\n",
    "    #           fill each element with a random character\n",
    "\n",
    "    # for each column in the table\n",
    "    #   for each row in the table\n",
    "    #       add the character to the encrypted message\n",
    "\n",
    "    return encrypted\n",
    "#random and math are already imported\n",
    "def decrypt(key,message):\n",
    "    # set rows (message length divided by key, rounded up)\n",
    "    # set columns (same as key)\n",
    "\n",
    "    pointer = 0\n",
    "    decrypted = ''\n",
    "\n",
    "    # create a 2D array as a table\n",
    "    table = [[''] * cols for i in range(rows)]\n",
    "\n",
    "    # for each column in the table\n",
    "    #   for each row in the table\n",
    "    #       if we haven't hit the end of the message yet\n",
    "    #           fill each element with the next character in the message\n",
    "    #       if we have hit the end of the message\n",
    "    #           break\n",
    "\n",
    "    # for each row in the table\n",
    "    #   for each column in the table\n",
    "    #       add the character to the decrypted message\n",
    "\n",
    "    return decrypted\n",
    "\n",
    "print (encrypt)\n",
    "\n",
    "print (decrypt)"
   ]
  },
  {
   "cell_type": "code",
   "execution_count": null,
   "id": "crude-medicine",
   "metadata": {},
   "outputs": [],
   "source": [
    "hhhhh \n"
   ]
  },
  {
   "cell_type": "code",
   "execution_count": null,
   "id": "subject-portugal",
   "metadata": {},
   "outputs": [],
   "source": []
  }
 ],
 "metadata": {
  "kernelspec": {
   "display_name": "Python 3",
   "language": "python",
   "name": "python3"
  },
  "language_info": {
   "codemirror_mode": {
    "name": "ipython",
    "version": 3
   },
   "file_extension": ".py",
   "mimetype": "text/x-python",
   "name": "python",
   "nbconvert_exporter": "python",
   "pygments_lexer": "ipython3",
   "version": "3.8.5"
  }
 },
 "nbformat": 4,
 "nbformat_minor": 5
}
